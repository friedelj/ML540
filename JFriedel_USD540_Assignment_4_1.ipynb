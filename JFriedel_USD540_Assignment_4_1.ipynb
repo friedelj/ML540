{
  "nbformat": 4,
  "nbformat_minor": 0,
  "metadata": {
    "colab": {
      "provenance": [],
      "authorship_tag": "ABX9TyNTIQcKSmNlmOJxgcjUoBxo",
      "include_colab_link": true
    },
    "kernelspec": {
      "name": "python3",
      "display_name": "Python 3"
    },
    "language_info": {
      "name": "python"
    }
  },
  "cells": [
    {
      "cell_type": "markdown",
      "metadata": {
        "id": "view-in-github",
        "colab_type": "text"
      },
      "source": [
        "<a href=\"https://colab.research.google.com/github/friedelj/ML540/blob/main/JFriedel_USD540_Assignment_4_1.ipynb\" target=\"_parent\"><img src=\"https://colab.research.google.com/assets/colab-badge.svg\" alt=\"Open In Colab\"/></a>"
      ]
    },
    {
      "cell_type": "markdown",
      "source": [
        "JFriedel           USD540         Assignment 4.1     9June2025                  "
      ],
      "metadata": {
        "id": "X3hGWeKakApf"
      }
    },
    {
      "cell_type": "code",
      "execution_count": null,
      "metadata": {
        "id": "Stt69OZdiVpD"
      },
      "outputs": [],
      "source": [
        "!pip3 install -U sagemaker"
      ]
    },
    {
      "cell_type": "code",
      "source": [
        "import os\n",
        "import boto3\n",
        "import sagemaker\n",
        "\n",
        "role = sagemaker.get_execution_role()\n",
        "sess = sagemaker.Session()\n",
        "region = sess.boto_region_name\n",
        "\n",
        "bucket = sess.default_bucket()\n",
        "prefix = \"DEMO-breast-cancer-prediction-xgboost-highlevel\""
      ],
      "metadata": {
        "id": "4ZsOVrC8kd6N"
      },
      "execution_count": null,
      "outputs": []
    },
    {
      "cell_type": "code",
      "source": [
        "import pandas as pd\n",
        "import numpy as np\n",
        "\n",
        "s3 = boto3.client(\"s3\")\n",
        "\n",
        "filename = \"wdbc.csv\"\n",
        "s3.download_file(\n",
        "    f\"sagemaker-example-files-prod-{region}\", \"datasets/tabular/breast_cancer/wdbc.csv\", filename\n",
        ")\n",
        "data = pd.read_csv(filename, header=None)\n",
        "\n",
        "# specify columns extracted from wbdc.names\n",
        "data.columns = [\n",
        "    \"id\",\n",
        "    \"diagnosis\",\n",
        "    \"radius_mean\",\n",
        "    \"texture_mean\",\n",
        "    \"perimeter_mean\",\n",
        "    \"area_mean\",\n",
        "    \"smoothness_mean\",\n",
        "    \"compactness_mean\",\n",
        "    \"concavity_mean\",\n",
        "    \"concave points_mean\",\n",
        "    \"symmetry_mean\",\n",
        "    \"fractal_dimension_mean\",\n",
        "    \"radius_se\",\n",
        "    \"texture_se\",\n",
        "    \"perimeter_se\",\n",
        "    \"area_se\",\n",
        "    \"smoothness_se\",\n",
        "    \"compactness_se\",\n",
        "    \"concavity_se\",\n",
        "    \"concave points_se\",\n",
        "    \"symmetry_se\",\n",
        "    \"fractal_dimension_se\",\n",
        "    \"radius_worst\",\n",
        "    \"texture_worst\",\n",
        "    \"perimeter_worst\",\n",
        "    \"area_worst\",\n",
        "    \"smoothness_worst\",\n",
        "    \"compactness_worst\",\n",
        "    \"concavity_worst\",\n",
        "    \"concave points_worst\",\n",
        "    \"symmetry_worst\",\n",
        "    \"fractal_dimension_worst\",\n",
        "]\n",
        "\n",
        "# save the data\n",
        "data.to_csv(\"data.csv\", sep=\",\", index=False)\n",
        "\n",
        "data.sample(8)"
      ],
      "metadata": {
        "id": "jr1GxQojkmeI"
      },
      "execution_count": null,
      "outputs": []
    },
    {
      "cell_type": "code",
      "source": [
        "data[\"diagnosis\"] = data[\"diagnosis\"].apply(lambda x: ((x == \"M\")) + 0)\n",
        "data.sample(8)"
      ],
      "metadata": {
        "id": "gm9-RvL-kqCY"
      },
      "execution_count": null,
      "outputs": []
    },
    {
      "cell_type": "code",
      "source": [
        "# data split in three sets, training, validation and batch inference\n",
        "rand_split = np.random.rand(len(data))\n",
        "train_list = rand_split < 0.8\n",
        "val_list = (rand_split >= 0.8) & (rand_split < 0.9)\n",
        "batch_list = rand_split >= 0.9\n",
        "\n",
        "data_train = data[train_list].drop([\"id\"], axis=1)\n",
        "data_val = data[val_list].drop([\"id\"], axis=1)\n",
        "data_batch = data[batch_list].drop([\"diagnosis\"], axis=1)\n",
        "data_batch_noID = data_batch.drop([\"id\"], axis=1)"
      ],
      "metadata": {
        "id": "9xFScPyYkudw"
      },
      "execution_count": null,
      "outputs": []
    },
    {
      "cell_type": "code",
      "source": [
        "train_file = \"train_data.csv\"\n",
        "data_train.to_csv(train_file, index=False, header=False)\n",
        "sess.upload_data(train_file, key_prefix=\"{}/train\".format(prefix))\n",
        "\n",
        "validation_file = \"validation_data.csv\"\n",
        "data_val.to_csv(validation_file, index=False, header=False)\n",
        "sess.upload_data(validation_file, key_prefix=\"{}/validation\".format(prefix))\n",
        "\n",
        "batch_file = \"batch_data.csv\"\n",
        "data_batch.to_csv(batch_file, index=False, header=False)\n",
        "sess.upload_data(batch_file, key_prefix=\"{}/batch\".format(prefix))\n",
        "\n",
        "batch_file_noID = \"batch_data_noID.csv\"\n",
        "data_batch_noID.to_csv(batch_file_noID, index=False, header=False)\n",
        "sess.upload_data(batch_file_noID, key_prefix=\"{}/batch\".format(prefix))"
      ],
      "metadata": {
        "id": "ORpf4nkgkyv3"
      },
      "execution_count": null,
      "outputs": []
    },
    {
      "cell_type": "code",
      "source": [
        "%%time\n",
        "from time import gmtime, strftime\n",
        "\n",
        "job_name = \"xgb-\" + strftime(\"%Y-%m-%d-%H-%M-%S\", gmtime())\n",
        "output_location = \"s3://{}/{}/output/{}\".format(bucket, prefix, job_name)\n",
        "image = sagemaker.image_uris.retrieve(\n",
        "    framework=\"xgboost\", region=boto3.Session().region_name, version=\"1.7-1\"\n",
        ")\n",
        "\n",
        "sm_estimator = sagemaker.estimator.Estimator(\n",
        "    image,\n",
        "    role,\n",
        "    instance_count=1,\n",
        "    instance_type=\"ml.m5.xlarge\",\n",
        "    volume_size=50,\n",
        "    input_mode=\"File\",\n",
        "    output_path=output_location,\n",
        "    sagemaker_session=sess,\n",
        ")\n",
        "\n",
        "sm_estimator.set_hyperparameters(\n",
        "    objective=\"binary:logistic\",\n",
        "    max_depth=5,\n",
        "    eta=0.2,\n",
        "    gamma=4,\n",
        "    min_child_weight=6,\n",
        "    subsample=0.8,\n",
        "    verbosity=0,\n",
        "    num_round=100,\n",
        ")\n",
        "\n",
        "train_data = sagemaker.inputs.TrainingInput(\n",
        "    \"s3://{}/{}/train\".format(bucket, prefix),\n",
        "    distribution=\"FullyReplicated\",\n",
        "    content_type=\"text/csv\",\n",
        "    s3_data_type=\"S3Prefix\",\n",
        ")\n",
        "validation_data = sagemaker.inputs.TrainingInput(\n",
        "    \"s3://{}/{}/validation\".format(bucket, prefix),\n",
        "    distribution=\"FullyReplicated\",\n",
        "    content_type=\"text/csv\",\n",
        "    s3_data_type=\"S3Prefix\",\n",
        ")\n",
        "data_channels = {\"train\": train_data, \"validation\": validation_data}\n",
        "\n",
        "# Start training by calling the fit method in the estimator\n",
        "sm_estimator.fit(inputs=data_channels, job_name=job_name, logs=True)"
      ],
      "metadata": {
        "id": "Ak-T7J1Xk3zv"
      },
      "execution_count": null,
      "outputs": []
    },
    {
      "cell_type": "code",
      "source": [
        "sm_transformer = sm_estimator.transformer(1, \"ml.m5.xlarge\")"
      ],
      "metadata": {
        "id": "OUk1OkhUlE50"
      },
      "execution_count": null,
      "outputs": []
    },
    {
      "cell_type": "code",
      "source": [
        "%%time\n",
        "\n",
        "sm_transformer = sm_estimator.transformer(1, \"ml.m5.xlarge\")\n",
        "\n",
        "# start a transform job\n",
        "input_location = \"s3://{}/{}/batch/{}\".format(\n",
        "    bucket, prefix, batch_file_noID\n",
        ")  # use input data without ID column\n",
        "sm_transformer.transform(input_location, content_type=\"text/csv\", split_type=\"Line\")\n",
        "sm_transformer.wait()"
      ],
      "metadata": {
        "id": "qPWPRzb6lHnW"
      },
      "execution_count": null,
      "outputs": []
    },
    {
      "cell_type": "code",
      "source": [
        "import re\n",
        "\n",
        "def get_csv_output_from_s3(s3uri, batch_file):\n",
        "    file_name = \"{}.out\".format(batch_file)\n",
        "    match = re.match(\"s3://([^/]+)/(.*)\", \"{}/{}\".format(s3uri, file_name))\n",
        "    output_bucket, output_prefix = match.group(1), match.group(2)\n",
        "    s3.download_file(output_bucket, output_prefix, file_name)\n",
        "    return pd.read_csv(file_name, sep=\",\", header=None)"
      ],
      "metadata": {
        "id": "ZIBk8e5ZlOiG"
      },
      "execution_count": null,
      "outputs": []
    },
    {
      "cell_type": "code",
      "source": [
        "output_df = get_csv_output_from_s3(sm_transformer.output_path, batch_file_noID)\n",
        "output_df.head(8)"
      ],
      "metadata": {
        "id": "9z5HsOxFlUBn"
      },
      "execution_count": null,
      "outputs": []
    },
    {
      "cell_type": "code",
      "source": [
        "# content_type / accept and split_type / assemble_with are required to use IO joining feature\n",
        "sm_transformer.assemble_with = \"Line\"\n",
        "sm_transformer.accept = \"text/csv\"\n",
        "\n",
        "# start a transform job\n",
        "input_location = \"s3://{}/{}/batch/{}\".format(\n",
        "    bucket, prefix, batch_file\n",
        ")  # use input data with ID column cause InputFilter will filter it out\n",
        "sm_transformer.transform(\n",
        "    input_location,\n",
        "    split_type=\"Line\",\n",
        "    content_type=\"text/csv\",\n",
        "    input_filter=\"$[1:]\",\n",
        "    join_source=\"Input\",\n",
        ")\n",
        "sm_transformer.wait()"
      ],
      "metadata": {
        "id": "i8ciAP31lWun"
      },
      "execution_count": null,
      "outputs": []
    },
    {
      "cell_type": "code",
      "source": [
        "output_df = get_csv_output_from_s3(sm_transformer.output_path, batch_file)\n",
        "output_df.head(8)"
      ],
      "metadata": {
        "id": "nMrRA3p9lhxv"
      },
      "execution_count": null,
      "outputs": []
    },
    {
      "cell_type": "code",
      "source": [
        "# start another transform job\n",
        "sm_transformer.transform(\n",
        "    input_location,\n",
        "    split_type=\"Line\",\n",
        "    content_type=\"text/csv\",\n",
        "    input_filter=\"$[1:]\",\n",
        "    join_source=\"Input\",\n",
        "    output_filter=\"$[0,-1]\",\n",
        ")\n",
        "sm_transformer.wait()"
      ],
      "metadata": {
        "id": "N2fQWsyUlj34"
      },
      "execution_count": null,
      "outputs": []
    },
    {
      "cell_type": "code",
      "source": [
        "output_df = get_csv_output_from_s3(sm_transformer.output_path, batch_file)\n",
        "output_df.head(8)"
      ],
      "metadata": {
        "id": "d_JEtPtblqxA"
      },
      "execution_count": null,
      "outputs": []
    },
    {
      "cell_type": "code",
      "source": [
        "# Inspect Training Job Details\n",
        "info"
      ],
      "metadata": {
        "id": "qaA7h25Wlw8N"
      },
      "execution_count": null,
      "outputs": []
    },
    {
      "cell_type": "code",
      "source": [
        "# Create Endpoint Configuration\n",
        "\n",
        "# Create an endpoint config name. Here we create one based on the date\n",
        "# so it we can search endpoints based on creation time.\n",
        "endpoint_config_name = 'lab4-1-endpoint-config' + strftime(\"%Y-%m-%d-%H-%M-%S\", gmtime())\n",
        "\n",
        "instance_type = 'ml.m5.xlarge'\n",
        "\n",
        "endpoint_config_response = sagemaker.create_endpoint_config(\n",
        "    EndpointConfigName=endpoint_config_name, # You will specify this name in a CreateEndpoint request.\n",
        "    # List of ProductionVariant objects, one for each model that you want to host at this endpoint.\n",
        "    ProductionVariants=[\n",
        "        {\n",
        "            \"VariantName\": \"variant1\", # The name of the production variant.\n",
        "            \"ModelName\": model_name,\n",
        "            \"InstanceType\": instance_type, # Specify the compute instance type.\n",
        "            \"InitialInstanceCount\": 1 # Number of instances to launch initially.\n",
        "        }\n",
        "    ]\n",
        ")\n",
        "\n",
        "print(f\"Created EndpointConfig: {endpoint_config_response['EndpointConfigArn']}\")"
      ],
      "metadata": {
        "id": "vM0mWcIAl6YH"
      },
      "execution_count": null,
      "outputs": []
    },
    {
      "cell_type": "code",
      "source": [
        "# Deploy our model to real-time endpoint\n",
        "\n",
        "endpoint_name = 'lab4-1-endpoint' + strftime(\"%Y-%m-%d-%H-%M-%S\", gmtime())\n",
        "\n",
        "\n",
        "create_endpoint_response = sagemaker.create_endpoint(\n",
        "                                            EndpointName=endpoint_name,\n",
        "                                            EndpointConfigName=endpoint_config_name)"
      ],
      "metadata": {
        "id": "Y-7_SuAul9ES"
      },
      "execution_count": null,
      "outputs": []
    },
    {
      "cell_type": "code",
      "source": [
        "# Wait for endpoint to spin up\n",
        "from time import sleep\n",
        "\n",
        "sagemaker.describe_endpoint(EndpointName=endpoint_name)\n",
        "\n",
        "while True:\n",
        "    print(\"Getting Job Status\")\n",
        "    res = sagemaker.describe_endpoint(EndpointName=endpoint_name)\n",
        "    state = res[\"EndpointStatus\"]\n",
        "\n",
        "    if state == \"InService\":\n",
        "        print(\"Endpoint in Service\")\n",
        "        break\n",
        "    elif state == \"Creating\":\n",
        "        print(\"Endpoint still creating...\")\n",
        "        sleep(30)    # PURKEYPILE: Changed from 60 to 30\n",
        "    else:\n",
        "        print(\"Endpoint Creation Error - Check Sagemaker Console\")\n",
        "        break"
      ],
      "metadata": {
        "id": "GIVSiXoJmAov"
      },
      "execution_count": null,
      "outputs": []
    },
    {
      "cell_type": "code",
      "source": [
        "# Invoke Endpoint\n",
        "\n",
        "sagemaker_runtime = boto3.client(\"sagemaker-runtime\", region_name=region)\n",
        "\n",
        "response = sagemaker_runtime.invoke_endpoint(\n",
        "                            EndpointName=endpoint_name,\n",
        "                            ContentType='text/csv',\n",
        "                            Body=data_batch_noID.to_csv(header=None, index=False).strip('\\n').split('\\n')[0]\n",
        "                            )\n",
        "print(response['Body'].read().decode('utf-8'))"
      ],
      "metadata": {
        "id": "tBkf05G7mF2-"
      },
      "execution_count": null,
      "outputs": []
    },
    {
      "cell_type": "code",
      "source": [
        "# Examine Response Body\n",
        "response"
      ],
      "metadata": {
        "id": "9il-z4dBmJRw"
      },
      "execution_count": null,
      "outputs": []
    },
    {
      "cell_type": "code",
      "source": [
        "# Delete Endpoint\n",
        "sagemaker.delete_endpoint(EndpointName=endpoint_name)"
      ],
      "metadata": {
        "id": "Bt2vJ6HtmbtY"
      },
      "execution_count": null,
      "outputs": []
    },
    {
      "cell_type": "markdown",
      "source": [
        "#S3"
      ],
      "metadata": {
        "id": "Lf22tp35mR-d"
      }
    },
    {
      "cell_type": "code",
      "source": [
        "# Create S3 Bucket\n",
        "import boto3\n",
        "import sagemaker\n",
        "\n",
        "session = boto3.session.Session()\n",
        "region = session.region_name\n",
        "sagemaker_session = sagemaker.Session()\n",
        "bucket = sagemaker_session.default_bucket()\n",
        "\n",
        "s3 = boto3.Session().client(service_name=\"s3\", region_name=region)"
      ],
      "metadata": {
        "id": "dBC5WhM4mMSH"
      },
      "execution_count": null,
      "outputs": []
    },
    {
      "cell_type": "code",
      "source": [
        "setup_s3_bucket_passed = False\n",
        "print(\"Default bucket: {}\".format(bucket))"
      ],
      "metadata": {
        "id": "Q5M_Nnemmf84"
      },
      "execution_count": null,
      "outputs": []
    },
    {
      "cell_type": "code",
      "source": [
        "# Verify S3_BUCKET Bucket Creation\n",
        "from botocore.client import ClientError\n",
        "\n",
        "response = None\n",
        "\n",
        "try:\n",
        "    response = s3.head_bucket(Bucket=bucket)\n",
        "    print(response)\n",
        "    setup_s3_bucket_passed = True\n",
        "except ClientError as e:\n",
        "    print(\"[ERROR] Cannot find bucket {} in {} due to {}.\".format(bucket, response, e))"
      ],
      "metadata": {
        "id": "JzOaRCeYmjgm"
      },
      "execution_count": null,
      "outputs": []
    },
    {
      "cell_type": "code",
      "source": [
        "%store setup_s3_bucket_passed"
      ],
      "metadata": {
        "id": "94Ie03tMmnmH"
      },
      "execution_count": null,
      "outputs": []
    },
    {
      "cell_type": "code",
      "source": [
        "%store"
      ],
      "metadata": {
        "id": "AAlEPwC5mqi3"
      },
      "execution_count": null,
      "outputs": []
    },
    {
      "cell_type": "code",
      "source": [
        "# Check Pre-Requisites from an earlier notebook\n",
        "%store -r setup_dependencies_passed\n",
        "try:\n",
        "    setup_dependencies_passed\n",
        "except NameError:\n",
        "    print(\"+++++++++++++++++++++++++++++++\")\n",
        "    print(\"[ERROR] YOU HAVE TO RUN ALL NOTEBOOKS IN THE SETUP FOLDER FIRST. You are missing Setup Dependencies.\")\n",
        "    print(\"+++++++++++++++++++++++++++++++\")\n",
        "print(setup_dependencies_passed)"
      ],
      "metadata": {
        "id": "i_M-msyZmuDA"
      },
      "execution_count": null,
      "outputs": []
    },
    {
      "cell_type": "code",
      "source": [
        "%store -r setup_s3_bucket_passed\n",
        "try:\n",
        "    setup_s3_bucket_passed\n",
        "except NameError:\n",
        "    print(\"+++++++++++++++++++++++++++++++\")\n",
        "    print(\"[ERROR] YOU HAVE TO RUN ALL NOTEBOOKS IN THE SETUP FOLDER FIRST. You are missing Setup S3 Bucket.\")\n",
        "    print(\"+++++++++++++++++++++++++++++++\")\n",
        "print(setup_s3_bucket_passed)"
      ],
      "metadata": {
        "id": "iZQuw_KdmyHx"
      },
      "execution_count": null,
      "outputs": []
    },
    {
      "cell_type": "code",
      "source": [
        "if not setup_dependencies_passed:\n",
        "    print(\"+++++++++++++++++++++++++++++++++++++++++++++++++++++++++++++++\")\n",
        "    print(\"[ERROR] YOU HAVE TO RUN ALL NOTEBOOKS IN THE SETUP FOLDER FIRST. You are missing Setup Dependencies.\")\n",
        "    print(\"+++++++++++++++++++++++++++++++++++++++++++++++++++++++++++++++\")\n",
        "if not setup_s3_bucket_passed:\n",
        "    print(\"+++++++++++++++++++++++++++++++++++++++++++++++++++++++++++++++\")\n",
        "    print(\"[ERROR] YOU HAVE TO RUN ALL NOTEBOOKS IN THE SETUP FOLDER FIRST. You are missing Setup S3 Bucket.\")\n",
        "    print(\"+++++++++++++++++++++++++++++++++++++++++++++++++++++++++++++++\")\n",
        "\n",
        "import boto3\n",
        "import sagemaker\n",
        "import pandas as pd\n",
        "\n",
        "sess = sagemaker.Session()\n",
        "bucket = sess.default_bucket()\n",
        "role = sagemaker.get_execution_role()\n",
        "region = boto3.Session().region_name\n",
        "account_id = boto3.client(\"sts\").get_caller_identity().get(\"Account\")\n",
        "\n",
        "sm = boto3.Session().client(service_name=\"sagemaker\", region_name=region)"
      ],
      "metadata": {
        "id": "a_DeSZzvm1e5"
      },
      "execution_count": null,
      "outputs": []
    },
    {
      "cell_type": "code",
      "source": [
        "# Set S3 Destination Location (Our Private S3 Bucket)\n",
        "s3_private_path_csv = \"s3://{}/assmt2-ds/csv\".format(bucket)\n",
        "print(s3_private_path_csv)"
      ],
      "metadata": {
        "id": "YJqGgPT9m7dW"
      },
      "execution_count": null,
      "outputs": []
    },
    {
      "cell_type": "code",
      "source": [
        "%store s3_private_path_csv"
      ],
      "metadata": {
        "id": "OzgwXwk6m-82"
      },
      "execution_count": null,
      "outputs": []
    },
    {
      "cell_type": "code",
      "source": [
        "# Copy Data From the Public S3 Bucket to Private S3 Bucket in this Account\n",
        "!aws s3 cp \"dataset.csv\" $s3_private_path_csv/"
      ],
      "metadata": {
        "id": "ojVMlIfNnCf_"
      },
      "execution_count": null,
      "outputs": []
    },
    {
      "cell_type": "code",
      "source": [
        "# List Files in our Private S3 Bucket in this Account\n",
        "print(s3_private_path_csv)"
      ],
      "metadata": {
        "id": "AAjJckoinGb2"
      },
      "execution_count": null,
      "outputs": []
    },
    {
      "cell_type": "code",
      "source": [
        "!aws s3 ls $s3_private_path_csv/"
      ],
      "metadata": {
        "id": "d7rzi51YnJQA"
      },
      "execution_count": null,
      "outputs": []
    },
    {
      "cell_type": "code",
      "source": [
        "from IPython.core.display import display, HTML\n",
        "\n",
        "display(\n",
        "    HTML(\n",
        "        '<b>Review <a target=\"blank\" href=\"https://s3.console.aws.amazon.com/s3/buckets/sagemaker-{}-{}/assmt2-ds/?region={}&tab=overview\">S3 Bucket</a></b>'.format(\n",
        "            region, account_id, region\n",
        "        )\n",
        "    )\n",
        ")"
      ],
      "metadata": {
        "id": "2GzKxQahnMzX"
      },
      "execution_count": null,
      "outputs": []
    },
    {
      "cell_type": "code",
      "source": [
        "from sagemaker.session import Session\n",
        "\n",
        "region = boto3.Session().region_name\n",
        "\n",
        "boto_session = boto3.Session(region_name=region)\n",
        "\n",
        "sagemaker_client = boto_session.client(service_name=\"sagemaker\", region_name=region)\n",
        "sagemaker_runtime = boto_session.client(service_name=\"sagemaker-runtime\", region_name=region)\n",
        "\n",
        "cancer_session = Session(\n",
        "    boto_session=boto_session,\n",
        "    sagemaker_client=sagemaker_client,\n",
        "    sagemaker_runtime_client=sagemaker_runtime,\n",
        ")"
      ],
      "metadata": {
        "id": "zH-lRELGnTtX"
      },
      "execution_count": null,
      "outputs": []
    },
    {
      "cell_type": "code",
      "source": [
        "# Use a bucket of your choosing\n",
        "default_s3_bucket_name = cancer_session.default_bucket()\n",
        "prefix = \"sagemaker-cancer-demo\"\n",
        "\n",
        "print(default_s3_bucket_name)"
      ],
      "metadata": {
        "id": "vQWzm49KnXCe"
      },
      "execution_count": null,
      "outputs": []
    },
    {
      "cell_type": "code",
      "source": [
        "from sagemaker import get_execution_role\n",
        "\n",
        "# You can modify the following to use a role of your choosing. See the documentation for how to create this.\n",
        "role = get_execution_role()\n",
        "print(role)"
      ],
      "metadata": {
        "id": "eVLZomhRnasB"
      },
      "execution_count": null,
      "outputs": []
    },
    {
      "cell_type": "code",
      "source": [
        "import numpy as np\n",
        "import pandas as pd\n",
        "import matplotlib.pyplot as plt\n",
        "import io\n",
        "\n",
        "s3_client = boto3.client(\"s3\", region_name=region)"
      ],
      "metadata": {
        "id": "NN8ywyj1neTG"
      },
      "execution_count": null,
      "outputs": []
    },
    {
      "cell_type": "markdown",
      "source": [
        "### Create a Model Group (Boto3)\n",
        "\n",
        "# To create a Model Group by using Boto3, call the create_model_package_group API operation and specify a name and\n",
        "# description as parameters. The following example shows how to create a Model Group. The response from the\n",
        "# create_model_package_group call is the Amazon Resource Name (ARN) of the new Model Group.\n",
        "\n",
        "# First, import the required packages and set up the SageMaker AI Boto3 client."
      ],
      "metadata": {
        "id": "E8uW-nxrnki2"
      }
    },
    {
      "cell_type": "code",
      "source": [
        "import time\n",
        "import os\n",
        "from sagemaker import get_execution_role, session\n",
        "import boto3\n",
        "\n",
        "region = boto3.Session().region_name\n",
        "\n",
        "role = get_execution_role()\n",
        "\n",
        "sm_client = boto3.client('sagemaker', region_name=region)"
      ],
      "metadata": {
        "id": "cN8Ig3L8nh64"
      },
      "execution_count": null,
      "outputs": []
    },
    {
      "cell_type": "markdown",
      "source": [
        "# Now create the Model Group."
      ],
      "metadata": {
        "id": "Vbbm28Plnvc5"
      }
    },
    {
      "cell_type": "code",
      "source": [
        "import time\n",
        "model_package_group_name = \"Joes-breast-cancer-detector\" + str(round(time.time()))\n",
        "model_package_group_input_dict = {\n",
        " \"ModelPackageGroupName\" : model_package_group_name,\n",
        " \"ModelPackageGroupDescription\" : \"Assmt4 using Breast Cancer Example\"\n",
        "}\n",
        "\n",
        "create_model_package_group_response = sm_client.create_model_package_group(**model_package_group_input_dict)\n",
        "print('ModelPackageGroup Arn : {}'.format(create_model_package_group_response['ModelPackageGroupArn']))"
      ],
      "metadata": {
        "id": "q4WNwGTPn0rM"
      },
      "execution_count": null,
      "outputs": []
    },
    {
      "cell_type": "markdown",
      "source": [
        "## Response Syntax"
      ],
      "metadata": {
        "id": "Cmyn2iX4n2zu"
      }
    },
    {
      "cell_type": "markdown",
      "source": [
        "## Response Structure\n",
        "# (dict) –\n",
        "\n",
        "# ModelPackageGroupName (string) –\n",
        "\n",
        "# The name of the model group.\n",
        "\n",
        "# ModelPackageGroupArn (string) –\n",
        "\n",
        "# The Amazon Resource Name (ARN) of the model group.\n",
        "\n",
        "# ModelPackageGroupDescription (string) –\n",
        "\n",
        "# A description of the model group.\n",
        "\n",
        "# CreationTime (datetime) –\n",
        "\n",
        "# The time that the model group was created.\n",
        "\n",
        "# CreatedBy (dict) –\n",
        "\n",
        "# Information about the user who created or modified an experiment, trial, trial component, lineage group, project, or model card.\n",
        "\n",
        "# UserProfileArn (string) –\n",
        "\n",
        "# The Amazon Resource Name (ARN) of the user’s profile.\n",
        "\n",
        "# UserProfileName (string) –\n",
        "\n",
        "# The name of the user’s profile.\n",
        "\n",
        "# DomainId (string) –\n",
        "\n",
        "# The domain associated with the user.\n",
        "\n",
        "IamIdentity (dict) –\n",
        "\n",
        "The IAM Identity details associated with the user. These details are associated with model package groups, model packages, and project entities only.\n",
        "\n",
        "Arn (string) –\n",
        "\n",
        "The Amazon Resource Name (ARN) of the IAM identity.\n",
        "\n",
        "PrincipalId (string) –\n",
        "\n",
        "The ID of the principal that assumes the IAM identity.\n",
        "\n",
        "SourceIdentity (string) –\n",
        "\n",
        "The person or application which assumes the IAM identity.\n",
        "\n",
        "ModelPackageGroupStatus (string) –\n",
        "\n",
        "The status of the model group."
      ],
      "metadata": {
        "id": "S-SvPNlun71-"
      }
    },
    {
      "cell_type": "code",
      "source": [
        "from datetime import datetime\n",
        "{\n",
        "    'ModelPackageGroupName': 'Joes-breast-cancer-detector',\n",
        "    'ModelPackageGroupArn': 'ModelPackageGroupArn',\n",
        "    'ModelPackageGroupDescription': 'string',\n",
        "    'CreationTime': datetime(2015, 1, 1),\n",
        "    'CreatedBy': {\n",
        "        'UserProfileArn': 'string1',\n",
        "        'UserProfileName': 'JoeF',\n",
        "        'DomainId': 'string3',\n",
        "        'IamIdentity': {\n",
        "            'Arn': 'string4',\n",
        "            'PrincipalId': 'string5',\n",
        "            'SourceIdentity': 'string6'\n",
        "        }\n",
        "    },\n",
        "    'ModelPackageGroupStatus': 'InProgress'\n",
        "}"
      ],
      "metadata": {
        "id": "b4yni-ncoJIW"
      },
      "execution_count": null,
      "outputs": []
    },
    {
      "cell_type": "markdown",
      "source": [
        "# Give your Model Group an informative name about what this group does, e.g. xgboost-breast-cancer-detection, and give\n",
        "# it a brief but informative description of what this group does in a bit more detail (best practice is under ~250\n",
        "# chars)."
      ],
      "metadata": {
        "id": "6IXC2RctoO6A"
      }
    },
    {
      "cell_type": "code",
      "source": [
        "import boto3\n",
        "\n",
        "sagemaker_client = boto3.client('sagemaker')\n",
        "\n",
        "response = sagemaker_client.list_model_package_groups()\n",
        "\n",
        "print(\"Available model package groups:\")\n",
        "for group in response['ModelPackageGroupSummaryList']:\n",
        "    print(group['ModelPackageGroupName'])"
      ],
      "metadata": {
        "id": "auAiqcwXoTDo"
      },
      "execution_count": null,
      "outputs": []
    },
    {
      "cell_type": "code",
      "source": [
        "import boto3\n",
        "\n",
        "sagemaker_client = boto3.client('sagemaker')\n",
        "\n",
        "response = sagemaker_client.describe_model_package_group(\n",
        "    ModelPackageGroupName='Joes-breast-cancer-detector1749416004'\n",
        ")\n",
        "\n",
        "print(response)"
      ],
      "metadata": {
        "id": "DKTszrw_oXum"
      },
      "execution_count": null,
      "outputs": []
    },
    {
      "cell_type": "markdown",
      "source": [
        "## Part 2: Set Up Model Package"
      ],
      "metadata": {
        "id": "6I7hyxbxocL-"
      }
    },
    {
      "cell_type": "markdown",
      "source": [
        "# The Model Package will contain specific details about our current model. Our Model Package should document model\n",
        "# deployment information (instance image, model data source i.e. our binary artifact, data source, any pre-processor\n",
        "# or post-processor scripts, etc.). After we learn more about Model monitoring, we can also include model quality,\n",
        "# model data quality, model bias and model explainability reports here too!"
      ],
      "metadata": {
        "id": "3TokLgMgoiMn"
      }
    },
    {
      "cell_type": "code",
      "source": [
        "from sagemaker import image_uris\n",
        "\n",
        "image_uri = image_uris.retrieve(\n",
        "    framework='xgboost',\n",
        "    region='us-east-1',\n",
        "    version='1.5-1'\n",
        ")"
      ],
      "metadata": {
        "id": "2g7qUGNjofDe"
      },
      "execution_count": null,
      "outputs": []
    },
    {
      "cell_type": "code",
      "source": [
        "# Specify the model source\n",
        "model_url = \"s3/buckets/sagemaker-us-east-1-244989531891?prefix=assmt2-ds/csv/breastcancer.csv\"\n",
        "\n",
        "modelpackage_inference_specification =  {\n",
        "    \"InferenceSpecification\": {\n",
        "      \"Containers\": [\n",
        "         {\n",
        "            \"Image\": image_uri,\n",
        "\t    \"ModelDataUrl\": model_url\n",
        "         }\n",
        "      ],\n",
        "      \"SupportedContentTypes\": [ \"text/csv\" ],\n",
        "      \"SupportedResponseMIMETypes\": [ \"text/csv\" ],\n",
        "   }\n",
        " }\n",
        "\n",
        "# Alternatively, you can specify the model source like this:\n",
        "# modelpackage_inference_specification[\"InferenceSpecification\"][\"Containers\"][0][\"ModelDataUrl\"]=model_url\n",
        "\n",
        "create_model_package_input_dict = {\n",
        "    \"ModelPackageGroupName\" : model_package_group_name,\n",
        "    \"ModelPackageDescription\" : \"Model to detect breast cancer\",\n",
        "    \"ModelApprovalStatus\" : \"PendingManualApproval\"\n",
        "}\n",
        "create_model_package_input_dict.update(modelpackage_inference_specification)"
      ],
      "metadata": {
        "id": "CXgWcKFpooW6"
      },
      "execution_count": null,
      "outputs": []
    },
    {
      "cell_type": "markdown",
      "source": [
        "# Review the API documentation here and fill out what you can inside the Inference Specification section. It’s\n",
        "# important to document what is useful to you and your team, but keep documentation brief so it is still readable."
      ],
      "metadata": {
        "id": "VGyxi5bsosgf"
      }
    },
    {
      "cell_type": "markdown",
      "source": [
        "### describe_model_package"
      ],
      "metadata": {
        "id": "GoMgIO-QowoX"
      }
    },
    {
      "cell_type": "code",
      "source": [
        "import boto3\n",
        "\n",
        "region = boto3.Session().region_name\n",
        "client = boto3.client('sagemaker', region_name=region)\n",
        "\n",
        "response = client.list_model_packages(\n",
        "    ModelPackageGroupName='Joes-breast-cancer-detector',\n",
        ")\n",
        "print(response)"
      ],
      "metadata": {
        "id": "S-4LxiJ6o0Km"
      },
      "execution_count": null,
      "outputs": []
    },
    {
      "cell_type": "markdown",
      "source": [
        "# S3 Bucket Data: s3/buckets/sagemaker-us-east-1-244989531891?prefix=assmt2-ds/csv/breastcancer.csv"
      ],
      "metadata": {
        "id": "bd29E3T1o4M2"
      }
    },
    {
      "cell_type": "code",
      "source": [],
      "metadata": {
        "id": "C43cAPCKo8PO"
      },
      "execution_count": null,
      "outputs": []
    },
    {
      "cell_type": "markdown",
      "source": [
        "### Part 3: Write the Model Card"
      ],
      "metadata": {
        "id": "jWqM_3cvo9W3"
      }
    },
    {
      "cell_type": "markdown",
      "source": [
        "# Finally we have our Model Card. The Model Card will contain qualitative details about our current model. The Model\n",
        "# Card can contain a lot of information. At a minimum, it should contain details of what the model algorithm is, how\n",
        "# the model was trained, what hyperparameters were used to train the model, what the input features for the model are,\n",
        "# who the model owner is (you), what problem the model is trying to solve, intended uses of the model, evaluation\n",
        "# details of the model, and so on."
      ],
      "metadata": {
        "id": "SaDDvL8xpArh"
      }
    },
    {
      "cell_type": "markdown",
      "source": [
        "###                                 See PDF"
      ],
      "metadata": {
        "id": "91jdGTfxpH5q"
      }
    }
  ]
}