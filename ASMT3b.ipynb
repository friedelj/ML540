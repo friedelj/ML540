{
  "nbformat": 4,
  "nbformat_minor": 0,
  "metadata": {
    "colab": {
      "provenance": [],
      "authorship_tag": "ABX9TyMVLLgmN25qUrTHFQOkVAGK",
      "include_colab_link": true
    },
    "kernelspec": {
      "name": "python3",
      "display_name": "Python 3"
    },
    "language_info": {
      "name": "python"
    }
  },
  "cells": [
    {
      "cell_type": "markdown",
      "metadata": {
        "id": "view-in-github",
        "colab_type": "text"
      },
      "source": [
        "<a href=\"https://colab.research.google.com/github/friedelj/ML540/blob/main/ASMT3b.ipynb\" target=\"_parent\"><img src=\"https://colab.research.google.com/assets/colab-badge.svg\" alt=\"Open In Colab\"/></a>"
      ]
    },
    {
      "cell_type": "code",
      "execution_count": null,
      "metadata": {
        "id": "moFL7d2e1wUF"
      },
      "outputs": [],
      "source": []
    },
    {
      "cell_type": "code",
      "source": [],
      "metadata": {
        "id": "bsLMPS0w12bj"
      },
      "execution_count": null,
      "outputs": []
    },
    {
      "cell_type": "code",
      "source": [
        "import boto3\n",
        "import sagemaker\n",
        "\n",
        "original_boto3_version = boto3.__version__\n",
        "%pip install 'boto3>1.17.21'"
      ],
      "metadata": {
        "id": "oTlfhuJQ12Yg"
      },
      "execution_count": null,
      "outputs": []
    },
    {
      "cell_type": "code",
      "source": [
        "from sagemaker.session import Session\n",
        "\n",
        "region = boto3.Session().region_name\n",
        "\n",
        "boto_session = boto3.Session(region_name=region)\n",
        "\n",
        "sagemaker_client = boto_session.client(service_name=\"sagemaker\", region_name=region)\n",
        "featurestore_runtime = boto_session.client(\n",
        "    service_name=\"sagemaker-featurestore-runtime\", region_name=region\n",
        ")\n",
        "\n",
        "feature_store_session = Session(\n",
        "    boto_session=boto_session,\n",
        "    sagemaker_client=sagemaker_client,\n",
        "    sagemaker_featurestore_runtime_client=featurestore_runtime,\n",
        ")"
      ],
      "metadata": {
        "id": "9RRLLM2212VW"
      },
      "execution_count": null,
      "outputs": []
    },
    {
      "cell_type": "code",
      "source": [
        "# You can modify the following to use a bucket of your choosing\n",
        "default_s3_bucket_name = feature_store_session.default_bucket()\n",
        "prefix = \"sagemaker-featurestore-asmt3\"\n",
        "\n",
        "print(default_s3_bucket_name)"
      ],
      "metadata": {
        "id": "XNN5DnjZ12SP"
      },
      "execution_count": null,
      "outputs": []
    },
    {
      "cell_type": "code",
      "source": [
        "from sagemaker import get_execution_role\n",
        "\n",
        "# You can modify the following to use a role of your choosing. See the documentation for how to create this.\n",
        "role = get_execution_role()\n",
        "print(role)"
      ],
      "metadata": {
        "id": "fc4WGg4w12O6"
      },
      "execution_count": null,
      "outputs": []
    },
    {
      "cell_type": "code",
      "source": [
        "import numpy as np\n",
        "import pandas as pd\n",
        "import matplotlib.pyplot as plt\n",
        "import io\n",
        "\n",
        "s3_client = boto3.client(\"s3\", region_name=region)\n",
        "\n",
        "#XXXXXXXXXXXXXXXXXX\n",
        "#fraud_detection_bucket_name replaced with home_value_prediction\n",
        "\n",
        "home_value_prediction = f\"sagemaker-example-files-prod-{region}\"\n",
        "identity_file_key = (\"housing_gmaps_data_raw.csv\"\n",
        "    #\"datasets/tabular/fraud_detection/synthethic_fraud_detection_SA/sampled_identity.csv\"\n",
        ")\n",
        "transaction_file_key = (\"housing.csv\"\n",
        "    #\"datasets/tabular/fraud_detection/synthethic_fraud_detection_SA/sampled_transactions.csv\"\n",
        ")\n",
        "\n",
        "identity_data_object = s3_client.get_object(\n",
        "    Bucket=home_value_prediction, Key=identity_file_key\n",
        ")\n",
        "transaction_data_object = s3_client.get_object(\n",
        "    Bucket=home_value_prediction, Key=transaction_file_key\n",
        ")\n",
        "\n",
        "identity_data = pd.read_csv(io.BytesIO(identity_data_object[\"Body\"].read()))\n",
        "transaction_data = pd.read_csv(io.BytesIO(transaction_data_object[\"Body\"].read()))"
      ],
      "metadata": {
        "id": "7OOOmSd612Ke"
      },
      "execution_count": null,
      "outputs": []
    },
    {
      "cell_type": "code",
      "source": [],
      "metadata": {
        "id": "rSqp09ri12Gu"
      },
      "execution_count": null,
      "outputs": []
    },
    {
      "cell_type": "code",
      "source": [],
      "metadata": {
        "id": "Lw1WztbF12DG"
      },
      "execution_count": null,
      "outputs": []
    },
    {
      "cell_type": "code",
      "source": [],
      "metadata": {
        "id": "XIUGB9ws11_b"
      },
      "execution_count": null,
      "outputs": []
    },
    {
      "cell_type": "code",
      "source": [],
      "metadata": {
        "id": "EP1oyPOD117n"
      },
      "execution_count": null,
      "outputs": []
    },
    {
      "cell_type": "code",
      "source": [],
      "metadata": {
        "id": "wRj35Ph2114M"
      },
      "execution_count": null,
      "outputs": []
    },
    {
      "cell_type": "code",
      "source": [],
      "metadata": {
        "id": "7iOEyksJ110n"
      },
      "execution_count": null,
      "outputs": []
    },
    {
      "cell_type": "code",
      "source": [],
      "metadata": {
        "id": "1Ri18Akd11xa"
      },
      "execution_count": null,
      "outputs": []
    },
    {
      "cell_type": "code",
      "source": [],
      "metadata": {
        "id": "RRqsGp7b11t3"
      },
      "execution_count": null,
      "outputs": []
    },
    {
      "cell_type": "code",
      "source": [],
      "metadata": {
        "id": "4Sa0E_Ap11qf"
      },
      "execution_count": null,
      "outputs": []
    },
    {
      "cell_type": "code",
      "source": [],
      "metadata": {
        "id": "7VBF5Ys711nT"
      },
      "execution_count": null,
      "outputs": []
    },
    {
      "cell_type": "code",
      "source": [],
      "metadata": {
        "id": "MovfaK2711j3"
      },
      "execution_count": null,
      "outputs": []
    },
    {
      "cell_type": "code",
      "source": [],
      "metadata": {
        "id": "WY2ll9Aq11gv"
      },
      "execution_count": null,
      "outputs": []
    },
    {
      "cell_type": "code",
      "source": [],
      "metadata": {
        "id": "Fd-4bozC11dg"
      },
      "execution_count": null,
      "outputs": []
    },
    {
      "cell_type": "code",
      "source": [],
      "metadata": {
        "id": "6w6b4eQR11Z-"
      },
      "execution_count": null,
      "outputs": []
    },
    {
      "cell_type": "code",
      "source": [],
      "metadata": {
        "id": "jkFO1eQr11Wk"
      },
      "execution_count": null,
      "outputs": []
    },
    {
      "cell_type": "code",
      "source": [],
      "metadata": {
        "id": "D85lI5Aw11S4"
      },
      "execution_count": null,
      "outputs": []
    },
    {
      "cell_type": "code",
      "source": [],
      "metadata": {
        "id": "121p94h111PT"
      },
      "execution_count": null,
      "outputs": []
    },
    {
      "cell_type": "code",
      "source": [],
      "metadata": {
        "id": "MaVQXtCT11K-"
      },
      "execution_count": null,
      "outputs": []
    },
    {
      "cell_type": "code",
      "source": [],
      "metadata": {
        "id": "5QdMsy2011FO"
      },
      "execution_count": null,
      "outputs": []
    }
  ]
}