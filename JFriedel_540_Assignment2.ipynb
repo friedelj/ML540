{
  "nbformat": 4,
  "nbformat_minor": 0,
  "metadata": {
    "colab": {
      "provenance": [],
      "authorship_tag": "ABX9TyP6nW3jkaF2F0fXxNeAF7Kd",
      "include_colab_link": true
    },
    "kernelspec": {
      "name": "python3",
      "display_name": "Python 3"
    },
    "language_info": {
      "name": "python"
    }
  },
  "cells": [
    {
      "cell_type": "markdown",
      "metadata": {
        "id": "view-in-github",
        "colab_type": "text"
      },
      "source": [
        "<a href=\"https://colab.research.google.com/github/friedelj/ML540/blob/main/JFriedel_540_Assignment2.ipynb\" target=\"_parent\"><img src=\"https://colab.research.google.com/assets/colab-badge.svg\" alt=\"Open In Colab\"/></a>"
      ]
    },
    {
      "cell_type": "markdown",
      "source": [],
      "metadata": {
        "id": "z61M7ta0fiF9"
      }
    },
    {
      "cell_type": "markdown",
      "source": [
        "# 1. Ingest homework data into data lake."
      ],
      "metadata": {
        "id": "9nI6sfxXfi4z"
      }
    },
    {
      "cell_type": "code",
      "execution_count": null,
      "metadata": {
        "id": "P61bqERPfbkn"
      },
      "outputs": [],
      "source": [
        "import boto3\n",
        "import sagemaker\n",
        "import pandas as pd\n",
        "\n",
        "sess = sagemaker.Session()\n",
        "bucket = sess.default_bucket()\n",
        "role = sagemaker.get_execution_role()\n",
        "region = boto3.Session().region_name\n",
        "account_id = boto3.client(\"sts\").get_caller_identity().get(\"Account\")\n",
        "\n",
        "sm = boto3.Session().client(service_name=\"sagemaker\", region_name=region)\n",
        "\n",
        "s3_private_path_csv = \"s3://{}/assmt2-ds/csv\".format(bucket)\n",
        "print(s3_private_path_csv)\n",
        "\n",
        "%store s3_private_path_csv"
      ]
    },
    {
      "cell_type": "code",
      "source": [
        "!aws s3 cp \"dataset.csv\" $s3_private_path_csv/"
      ],
      "metadata": {
        "id": "eOYzwEO4fsU7"
      },
      "execution_count": null,
      "outputs": []
    },
    {
      "cell_type": "code",
      "source": [
        "from IPython.core.display import display, HTML\n",
        "\n",
        "display(\n",
        "    HTML(\n",
        "        '<b>Review <a target=\"blank\" href=\"https://s3.console.aws.amazon.com/s3/buckets/sagemaker-{}-{}/assmt2-ds/?region={}&tab=overview\">S3 Bucket</a></b>'.format(\n",
        "            region, account_id, region\n",
        "        )\n",
        "    )\n",
        ")"
      ],
      "metadata": {
        "id": "ocLbthDsfwuL"
      },
      "execution_count": null,
      "outputs": []
    },
    {
      "cell_type": "markdown",
      "source": [
        "# Found in s3://sagemaker-us-east-1-244989531891/assmt2-ds/tsv/dataset.csv"
      ],
      "metadata": {
        "id": "ht8nYXVaf2PH"
      }
    },
    {
      "cell_type": "markdown",
      "source": [
        "# 2.Set up the Athena query engine"
      ],
      "metadata": {
        "id": "p6hA52qmgFpm"
      }
    },
    {
      "cell_type": "code",
      "source": [
        "import boto3\n",
        "import sagemaker\n",
        "\n",
        "sess = sagemaker.Session()\n",
        "bucket = sess.default_bucket()\n",
        "role = sagemaker.get_execution_role()\n",
        "region = boto3.Session().region_name\n",
        "\n",
        "ingest_create_athena_table_csv_passed = False\n",
        "\n",
        "%store -r ingest_create_athena_db_passed\n",
        "\n",
        "try:\n",
        "    ingest_create_athena_db_passed\n",
        "except NameError:\n",
        "    print(\"++++++++++++++++++++++++++++++++++++++++++++++\")\n",
        "    print(\"[ERROR] YOU HAVE TO RUN ALL PREVIOUS NOTEBOOKS.  You did not create the Athena Database.\")\n",
        "    print(\"++++++++++++++++++++++++++++++++++++++++++++++\")"
      ],
      "metadata": {
        "id": "71SI-gf1gAW-"
      },
      "execution_count": null,
      "outputs": []
    },
    {
      "cell_type": "code",
      "source": [
        "print(ingest_create_athena_db_passed)"
      ],
      "metadata": {
        "id": "NgxUqXa4gO95"
      },
      "execution_count": null,
      "outputs": []
    },
    {
      "cell_type": "code",
      "source": [
        "if not ingest_create_athena_db_passed:\n",
        "    print(\"++++++++++++++++++++++++++++++++++++++++++++++\")\n",
        "    print(\"[ERROR] YOU HAVE TO RUN ALL PREVIOUS NOTEBOOKS.  You did not create the Athena Database.\")\n",
        "    print(\"++++++++++++++++++++++++++++++++++++++++++++++\")\n",
        "else:\n",
        "    print(\"[OK]\")"
      ],
      "metadata": {
        "id": "R47lPuPggSUT"
      },
      "execution_count": null,
      "outputs": []
    },
    {
      "cell_type": "code",
      "source": [],
      "metadata": {
        "id": "ntpVHYSVgWC4"
      },
      "execution_count": null,
      "outputs": []
    },
    {
      "cell_type": "markdown",
      "source": [],
      "metadata": {
        "id": "Pg8Bmv0xgBmk"
      }
    }
  ]
}